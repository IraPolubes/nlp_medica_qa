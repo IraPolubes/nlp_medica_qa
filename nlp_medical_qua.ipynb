{
 "cells": [
  {
   "cell_type": "code",
   "execution_count": 7,
   "metadata": {},
   "outputs": [],
   "source": [
    "from IPython.display import clear_output"
   ]
  },
  {
   "cell_type": "code",
   "execution_count": 8,
   "metadata": {},
   "outputs": [],
   "source": [
    "!pip install datasets\n",
    "\n",
    "clear_output()"
   ]
  },
  {
   "cell_type": "markdown",
   "metadata": {},
   "source": [
    "# Load dataset"
   ]
  },
  {
   "cell_type": "code",
   "execution_count": 11,
   "metadata": {},
   "outputs": [
    {
     "name": "stdout",
     "output_type": "stream",
     "text": [
      "{'train': MemoryMappedTable\n",
      "dr_id: int32\n",
      "question_1: string\n",
      "question_2: string\n",
      "label: int64\n",
      "----\n",
      "dr_id: [[1,1,1,1,1,...,4,4,4,4,4],[4,4,4,4,4,...,8,8,8,8,8],[8,8,8,8,8,...,11,11,11,11,11],[11,11,11,11,11,...,11,11,11,11,11]]\n",
      "question_1: [[\"After how many hour from drinking an antibiotic can I drink alcohol?\",\"After how many hour from drinking an antibiotic can I drink alcohol?\",\"Am I over weight (192.9) for my age (39)?\",\"Am I over weight (192.9) for my age (39)?\",\"Aspirin allergy - is it worth getting a bracelet?\",...,\"Please help, 27 w/ ED for the past year 1/2 started with problems once in a while to now can't stay erect while masturbating. Will cialis stop working?\",\"Please suggest best antibiotics for higher wcb and crp. It is due to gall bladder surgery and removed from my daughter?\",\"Please suggest best antibiotics for higher wcb and crp. It is due to gall bladder surgery and removed from my daughter?\",\"Please tell me what can they do about acne holes on face?\",\"Please tell me what can they do about acne holes on face?\"],[\"Purple fluid filled sack on scalp grew over several months, popped when squeezed. Resembled skin tag. Concerned of cancer. Nothing for doc to check?\",\"Purple fluid filled sack on scalp grew over several months, popped when squeezed. Resembled skin tag. Concerned of cancer. Nothing for doc to check?\",\"Rcently prescribed Lumigan 0.1% IOP concern about burning in eyes called the Doc and Doc does not take calls. What to do? Next appt in a week?\",\"Rcently prescribed Lumigan 0.1% IOP concern about burning in eyes called the Doc and Doc does not take calls. What to do? Next appt in a week?\",\"Regarding my last question. Everytime i take oxycodone, i become very sensitive to sound. A person talking is too loud. Even no migraine. Known se?\",...,\"How can you stop bloating during your period?\",\"How does a person get hyperthermia?\",\"How does a person get hyperthermia?\",\"How does one break their arm playing volleyball?\",\"How does one break their arm playing volleyball?\"],[\"How do I tell the difference between an allergy and a sinus infection?\",\"How do I tell the difference between an allergy and a sinus infection?\",\"How do occupational therapists help people with eye injuries to ambulate safely?\",\"How do occupational therapists help people with eye injuries to ambulate safely?\",\"How do we decide who takes mom?\",...,\"Whats the best medication to treat yeast infections that a doctor can prescibe? Excluding diflucan (fluconazole)\",\"What's the best treatment for burns?\",\"What's the best treatment for burns?\",\"What's the best way to deal 3rd degree bed sore?\",\"What's the best way to deal 3rd degree bed sore?\"],[\"What to do if I am 17 year old guy.2 days ago I noticed weak erections and now I can't even maintain it?\",\"What to do if I am 17 year old guy.2 days ago I noticed weak erections and now I can't even maintain it?\",\"What to do if I have 3000mg of tegretol; 200mg pills. Is this lethal enough?\",\"What to do if I have 3000mg of tegretol; 200mg pills. Is this lethal enough?\",\"Whenever I sit continous for a long time then I get numbness tingling in my arms legs and stifness tightness in head or face. Plz please tell what to do?\",...,\"15 million  sperm can be a father?\",\"26 yo m with history of progressive venous insufficiency failed one year of conservative management. + family hx. Is delaying surgery a good idea?\",\"26 yo m with history of progressive venous insufficiency failed one year of conservative management. + family hx. Is delaying surgery a good idea?\",\"32 weeks pregnant. Headache strange leg weakness. Should I call doctor?\",\"32 weeks pregnant. Headache strange leg weakness. Should I call doctor?\"]]\n",
      "question_2: [[\"I have a party tonight and I took my last dose of Azithromycin this morning. Can I have a few drinks?\",\"I vomited this morning and I am not sure if it is the side effect of my antibiotic or the alcohol I took last night...\",\"I am a 39 y/o male currently weighing about 193 lbs. Do you think I am overweight?\",\"What diet is good for losing weight? Keto or vegan?\",\"How much Aspirin can I take for my headache without causing any side effects?\",...,\"What other options do I have for ED apart from Cialis?\",\"My son was diagnosed with an infection after gall bladder removal surgery. He was prescribed antibiotics but his WBC and CRP are still high. Is this normal? \",\"What antibiotics can be used for an infection cause by gall bladder removal surgery leading to higher WBC and CRP for my son?\",\"Are there any topical ointments that can be used to treat holes on the face caused by acne?\",\"Why does stress cause acne?\"],[\"Can a cancerous lesion on the scalp present with symptoms such as a fluid filled sac occurring over many months with some discharge?\",\"What is the treatment for cancerous lesion occurring on the scalp?\",\"Is burning sensation in the eye expected after using Lumigan 0.1 IOP? Should I go see the doctor immediately or wait until my appointment next week?\",\"What is Lumigan 0.1% used for? Can it cause redness or burning in the eyes?\",\"Does oxycodone cause increased sensitivity to sound? I have been experiencing this for a while, it feels like someone is talking loud. \",...,\"I missed my period and feel bloated. Am I pregnant?\",\"Can you explain the causes of hypothermia?\",\"What body temperature would account to be hypothermia?\",\"How do playing sports like voleyball makes get an arm fracture?\",\"How long it takses for a broken arm to heal?\"],[\"Can you tell me some OTC medications for allergies and sinus infection?\",\"What are the symptoms that differentiate between allergy and a sinus infection?\",\"Does occupation therapy have any role in early rehabilitation of people with eye injuries?\",\"I am thinking of becoming an occupational therapist. Any advice?\",\"My mom has a fever. We are not able to decide if it needs a check up.\",...,\"I heard with taking diflucan there is liver damage. I took a 3 day course for my yeast infection. Do you think I damaged my liver?\",\"Hello doctor, can you please let me know about the treatment of burns?\",\"I spilled hot water on my arm and I have redness, pain, blisters? How can I know which degree burn is it?\",\"Hello doctor, I have been given antibiotics to help ease my 3rd degree bed sore. May I know if I can continue my hypertensive medications with the antibiotics?\",\"Hello doctor, my grandmother has 3rd degree bed sore. What can be done to help?\"],[\"Do you know if masturbation has any effects on erections?\",\"I am 17 years and since 2 days I noticed weak erections and hs difficulty maintaining. May I know what can I do?\",\"Hello doctor I overdosed on Ativan. I took 5 pills at once. Will I die?\",\"I have 3000mg of tegretol and each pill is of 200mg. Is this dose lethal enough? \",\"I have numbness and tingling in arms, legs, stiffness, tightness in head or face. This happens when I sit for long. Asking what to do?\",...,\"My sperm count is 15 millions and is there a chance I can get some one pregnant? Can I be pregnant? \",\"Hello doctor, can you please tell me some of the common symptoms seen with venous insufficiency?\",\"Hello doctor, I am 26 year old male wth progressive venous insufficiency. One year of conservative management failed. I am advised surgery as I have positive family history. Can surgery be delayed? \",\"I am 32 weeks pregnant and had severe headache, blurred vision, pedal edema and diagnosed with eclampsia and given medications. Should I change any diet to help ease my eclampsia? \",\"I have headache, leg weakness and 32 weeks pregnant. Should I go and see a doctor?\"]]\n",
      "label: [[1,0,1,0,0,...,0,0,1,1,0],[1,0,1,0,1,...,0,1,0,1,0],[0,1,1,0,0,...,0,1,0,0,1],[0,1,0,1,1,...,1,0,1,0,1]]}\n"
     ]
    }
   ],
   "source": [
    "from datasets import load_dataset\n",
    "\n",
    "dataset = load_dataset(\"medical_questions_pairs\")\n",
    "\n",
    "print(dataset.data)\n",
    "\n",
    "\n"
   ]
  },
  {
   "cell_type": "markdown",
   "metadata": {},
   "source": [
    "# Parse and clean dataset\n"
   ]
  },
  {
   "cell_type": "code",
   "execution_count": null,
   "metadata": {},
   "outputs": [],
   "source": []
  },
  {
   "cell_type": "code",
   "execution_count": null,
   "metadata": {},
   "outputs": [],
   "source": []
  }
 ],
 "metadata": {
  "kernelspec": {
   "display_name": "Python (nlp_venv)",
   "language": "python",
   "name": "nlp_venv"
  },
  "language_info": {
   "codemirror_mode": {
    "name": "ipython",
    "version": 3
   },
   "file_extension": ".py",
   "mimetype": "text/x-python",
   "name": "python",
   "nbconvert_exporter": "python",
   "pygments_lexer": "ipython3",
   "version": "3.10.12"
  }
 },
 "nbformat": 4,
 "nbformat_minor": 4
}
