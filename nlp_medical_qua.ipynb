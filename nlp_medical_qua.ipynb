{
 "cells": [
  {
   "cell_type": "code",
   "execution_count": 12,
   "metadata": {},
   "outputs": [],
   "source": [
    "!pip install datasets nltk transformers torch PyTorch\n",
    "\n",
    "clear_output()"
   ]
  },
  {
   "cell_type": "code",
   "execution_count": 1,
   "metadata": {},
   "outputs": [
    {
     "name": "stderr",
     "output_type": "stream",
     "text": [
      "/home/ira/Dev/mle_projects/nlp_medical_qa/.venv_nlp/lib/python3.10/site-packages/tqdm/auto.py:21: TqdmWarning: IProgress not found. Please update jupyter and ipywidgets. See https://ipywidgets.readthedocs.io/en/stable/user_install.html\n",
      "  from .autonotebook import tqdm as notebook_tqdm\n"
     ]
    }
   ],
   "source": [
    "from IPython.display import clear_output\n",
    "import pandas as pd\n",
    "import nltk\n",
    "from nltk.tokenize import RegexpTokenizer\n",
    "import warnings\n",
    "from transformers import AutoTokenizer\n",
    "from datasets import load_dataset\n",
    "from transformers import BertTokenizer, BertModel\n",
    "import torch\n",
    "\n",
    "# Suppress all warnings in cells printouts for clear output\n",
    "warnings.filterwarnings('ignore')"
   ]
  },
  {
   "cell_type": "markdown",
   "metadata": {},
   "source": [
    "# Load dataset"
   ]
  },
  {
   "cell_type": "code",
   "execution_count": 2,
   "metadata": {},
   "outputs": [
    {
     "name": "stdout",
     "output_type": "stream",
     "text": [
      "train\n"
     ]
    }
   ],
   "source": [
    "dataset = load_dataset(\"medical_questions_pairs\")\n",
    "\n",
    "for split in dataset:\n",
    "    print(split)\n",
    "\n"
   ]
  },
  {
   "cell_type": "markdown",
   "metadata": {},
   "source": [
    "# Parse and clean dataset\n"
   ]
  },
  {
   "cell_type": "code",
   "execution_count": 3,
   "metadata": {},
   "outputs": [
    {
     "data": {
      "text/html": [
       "<div>\n",
       "<style scoped>\n",
       "    .dataframe tbody tr th:only-of-type {\n",
       "        vertical-align: middle;\n",
       "    }\n",
       "\n",
       "    .dataframe tbody tr th {\n",
       "        vertical-align: top;\n",
       "    }\n",
       "\n",
       "    .dataframe thead th {\n",
       "        text-align: right;\n",
       "    }\n",
       "</style>\n",
       "<table border=\"1\" class=\"dataframe\">\n",
       "  <thead>\n",
       "    <tr style=\"text-align: right;\">\n",
       "      <th></th>\n",
       "      <th>dr_id</th>\n",
       "      <th>question_1</th>\n",
       "      <th>question_2</th>\n",
       "      <th>label</th>\n",
       "    </tr>\n",
       "  </thead>\n",
       "  <tbody>\n",
       "    <tr>\n",
       "      <th>0</th>\n",
       "      <td>1</td>\n",
       "      <td>After how many hour from drinking an antibioti...</td>\n",
       "      <td>I have a party tonight and I took my last dose...</td>\n",
       "      <td>1</td>\n",
       "    </tr>\n",
       "    <tr>\n",
       "      <th>1</th>\n",
       "      <td>1</td>\n",
       "      <td>After how many hour from drinking an antibioti...</td>\n",
       "      <td>I vomited this morning and I am not sure if it...</td>\n",
       "      <td>0</td>\n",
       "    </tr>\n",
       "    <tr>\n",
       "      <th>2</th>\n",
       "      <td>1</td>\n",
       "      <td>Am I over weight (192.9) for my age (39)?</td>\n",
       "      <td>I am a 39 y/o male currently weighing about 19...</td>\n",
       "      <td>1</td>\n",
       "    </tr>\n",
       "    <tr>\n",
       "      <th>3</th>\n",
       "      <td>1</td>\n",
       "      <td>Am I over weight (192.9) for my age (39)?</td>\n",
       "      <td>What diet is good for losing weight? Keto or v...</td>\n",
       "      <td>0</td>\n",
       "    </tr>\n",
       "    <tr>\n",
       "      <th>4</th>\n",
       "      <td>1</td>\n",
       "      <td>Aspirin allergy - is it worth getting a bracelet?</td>\n",
       "      <td>How much Aspirin can I take for my headache wi...</td>\n",
       "      <td>0</td>\n",
       "    </tr>\n",
       "  </tbody>\n",
       "</table>\n",
       "</div>"
      ],
      "text/plain": [
       "   dr_id                                         question_1  \\\n",
       "0      1  After how many hour from drinking an antibioti...   \n",
       "1      1  After how many hour from drinking an antibioti...   \n",
       "2      1          Am I over weight (192.9) for my age (39)?   \n",
       "3      1          Am I over weight (192.9) for my age (39)?   \n",
       "4      1  Aspirin allergy - is it worth getting a bracelet?   \n",
       "\n",
       "                                          question_2  label  \n",
       "0  I have a party tonight and I took my last dose...      1  \n",
       "1  I vomited this morning and I am not sure if it...      0  \n",
       "2  I am a 39 y/o male currently weighing about 19...      1  \n",
       "3  What diet is good for losing weight? Keto or v...      0  \n",
       "4  How much Aspirin can I take for my headache wi...      0  "
      ]
     },
     "execution_count": 3,
     "metadata": {},
     "output_type": "execute_result"
    }
   ],
   "source": [
    "df = pd.DataFrame(dataset['train'])\n",
    "df.head()"
   ]
  },
  {
   "cell_type": "code",
   "execution_count": 4,
   "metadata": {},
   "outputs": [],
   "source": [
    "question_1 = 'question_1'\n",
    "question_2 = 'question_2' # column names as vars for convenienct"
   ]
  },
  {
   "cell_type": "code",
   "execution_count": 5,
   "metadata": {},
   "outputs": [],
   "source": [
    "df.drop('dr_id', axis=1, inplace=True)  # keep only question pairs and labels. Label 1 means match"
   ]
  },
  {
   "cell_type": "code",
   "execution_count": 6,
   "metadata": {},
   "outputs": [
    {
     "data": {
      "text/plain": [
       "(3048, 3)"
      ]
     },
     "execution_count": 6,
     "metadata": {},
     "output_type": "execute_result"
    }
   ],
   "source": [
    "df.shape"
   ]
  },
  {
   "cell_type": "markdown",
   "metadata": {},
   "source": [
    "Properties of a good set:\n",
    "1. No paired duplicates (no rows with same q1 and q2 values as a pair). Ensure removal of inverse duplication:\n",
    "   q1,q2 and q2,q1\n",
    "2. No NaN\n",
    "3. Many to many relation is possible"
   ]
  },
  {
   "cell_type": "code",
   "execution_count": 7,
   "metadata": {},
   "outputs": [
    {
     "name": "stdout",
     "output_type": "stream",
     "text": [
      "question_1    False\n",
      "question_2    False\n",
      "label         False\n",
      "dtype: bool\n"
     ]
    }
   ],
   "source": [
    "# Check for NaN and remove\n",
    "nan_cols = df.isnull().any()\n",
    "print(nan_cols)"
   ]
  },
  {
   "cell_type": "code",
   "execution_count": 8,
   "metadata": {},
   "outputs": [],
   "source": [
    "# Remove paired duplicates \n",
    "df['isometric_pair'] = df.apply(lambda x: tuple(sorted([x[question_1], x[question_2]])), axis=1)\n",
    "\n",
    "# Remove duplicates based on the normalized pairs\n",
    "df = df.drop_duplicates(subset=['isometric_pair'])\n",
    "\n",
    "# Drop the auxiliary column\n",
    "df = df.drop(columns=['isometric_pair'])"
   ]
  },
  {
   "cell_type": "code",
   "execution_count": 9,
   "metadata": {},
   "outputs": [
    {
     "data": {
      "text/plain": [
       "(3048, 3)"
      ]
     },
     "execution_count": 9,
     "metadata": {},
     "output_type": "execute_result"
    }
   ],
   "source": [
    "df.shape  # see if something was removed"
   ]
  },
  {
   "cell_type": "markdown",
   "metadata": {},
   "source": [
    "Outcome: clean dataset without pairs of duplicates"
   ]
  },
  {
   "cell_type": "markdown",
   "metadata": {},
   "source": [
    "# Embedding: transform each question into vector\n",
    "\n",
    "    1. Tokenize question to words\n",
    "    2. Embed words to vectors with BERT\n",
    "    3. Make an average vector to represent the sentence (or weighted average: like TF-IDF scores, giving more importance to certain words.)    \n",
    "    4. return question as a vector\n",
    "    5. add vectorized question to table\n"
   ]
  },
  {
   "cell_type": "code",
   "execution_count": 22,
   "metadata": {},
   "outputs": [],
   "source": [
    "def tokenize(question):\n",
    "    tokenizer = RegexpTokenizer(r'\\w+')\n",
    "    tokens = tokenizer.tokenize(question) # split\n",
    "    tokens = [token.lower() for token in tokens] # decapitalize\n",
    "     \n",
    "    #tokenizer = AutoTokenizer.from_pretrained(\"bert-base-uncased\")  # native BERT format preserves punctuation as well, not needed\n",
    "    #tokens = tokenizer.tokenize(question)\n",
    "    \n",
    "    return tokens\n"
   ]
  },
  {
   "cell_type": "code",
   "execution_count": 29,
   "metadata": {},
   "outputs": [],
   "source": [
    "def embed(tokens):\n",
    "\n",
    "    bert_tokenizer = BertTokenizer.from_pretrained(\"bert-base-uncased\")\n",
    "    \n",
    "    # Convert custom tokens into a string for BERT special format\n",
    "    custom_text = ' '.join(tokens)\n",
    "    \n",
    "    # Tokenize this text using BERT's tokenizer\n",
    "    bert_inputs = bert_tokenizer(custom_text, return_tensors=\"pt\", padding=True, truncation=True)\n",
    "    \n",
    "    # Pass the tokenized inputs through the BERT model\n",
    "    bert_model = BertModel.from_pretrained(\"bert-base-uncased\")\n",
    "    bert_outputs = bert_model(**bert_inputs)\n",
    "    \n",
    "    # Extracting embeddings\n",
    "    embeddings = bert_outputs.last_hidden_state\n",
    "    embedded_question = embeddings.mean(dim=1)[0]  # single vector representing the entire question.\n",
    "    return embedded_question.detach().numpy()\n",
    "    "
   ]
  },
  {
   "cell_type": "code",
   "execution_count": 30,
   "metadata": {},
   "outputs": [
    {
     "name": "stdout",
     "output_type": "stream",
     "text": [
      "tensor([ 1.2027e-01, -4.8629e-01,  2.5507e-01, -2.2412e-01,  3.7272e-01,\n",
      "        -4.1045e-01,  2.9779e-01,  8.1002e-01, -2.2958e-01, -4.4690e-01,\n",
      "         2.2236e-01, -4.5837e-01,  1.4484e-02,  3.6392e-01, -4.3390e-01,\n",
      "         4.2487e-01,  1.8755e-01,  3.8753e-01,  5.4501e-02,  5.4168e-01,\n",
      "        -1.7867e-01, -2.4879e-01,  2.1380e-02,  3.6549e-01,  3.7245e-01,\n",
      "        -2.8870e-01, -1.0254e-01, -4.9800e-02, -1.2759e-01, -4.6746e-01,\n",
      "        -1.4162e-01,  1.6437e-01, -3.9243e-01,  5.7495e-02,  1.8970e-01,\n",
      "        -1.9391e-01, -4.2002e-02,  1.2921e-01, -5.8789e-01,  3.4880e-01,\n",
      "        -8.3487e-01, -6.1177e-01,  3.2349e-01,  3.6605e-01, -4.9621e-01,\n",
      "        -1.2292e+00,  2.7390e-01, -3.4765e-02, -2.4528e-01,  2.0516e-01,\n",
      "        -2.4259e-01,  3.6626e-01, -8.0943e-01, -2.7043e-02, -3.5219e-01,\n",
      "         6.2473e-01, -1.8816e-01, -6.5396e-01, -4.7406e-01,  7.0624e-02,\n",
      "         1.6397e-01, -3.8148e-01, -1.1909e-01, -4.4703e-01,  3.4184e-01,\n",
      "         6.7240e-01, -8.7383e-02,  5.6854e-01, -6.1055e-01, -4.9199e-02,\n",
      "        -4.6365e-01, -3.2821e-01,  4.2623e-02,  5.6231e-02, -1.8116e-02,\n",
      "        -4.4853e-01, -3.1431e-01,  4.0179e-01, -2.3949e-01, -4.7118e-01,\n",
      "        -3.5587e-01,  2.3010e-01, -1.7962e-01,  3.6408e-01, -6.1647e-03,\n",
      "         3.2718e-01, -2.1187e-01,  6.4463e-02, -2.2795e-01,  3.1415e-01,\n",
      "         4.5500e-01, -4.2374e-01,  9.1229e-03,  4.9864e-01,  1.3024e-01,\n",
      "        -3.1700e-01, -1.4975e-01,  3.3643e-01, -1.4633e-01,  3.2039e-01,\n",
      "         3.3921e-01,  3.0744e-02,  5.4991e-01,  2.5231e-01,  2.1973e-02,\n",
      "         2.8261e-01,  4.2810e-01, -3.6178e-01,  5.7001e-01,  1.2956e-01,\n",
      "         5.9817e-02, -3.7869e-01, -4.0243e-02, -5.3736e-01, -4.2306e-01,\n",
      "         3.6823e-01,  4.8246e-01, -4.5819e-01, -3.4330e-01, -2.9064e-01,\n",
      "        -4.1206e-01, -4.1735e-01,  1.8499e-01,  8.2180e-01,  8.7096e-02,\n",
      "         4.5811e-01, -4.0211e-01, -3.6978e-01,  3.2903e-02, -5.5480e-01,\n",
      "         6.2118e-02,  2.7176e-01,  6.6317e-01,  1.4425e-01, -2.4024e-02,\n",
      "         4.9928e-01,  8.6720e-02, -6.2100e-02, -5.0432e-01, -1.5400e-01,\n",
      "        -7.3285e-04,  6.3792e-04,  4.4800e-02,  1.1410e-01,  5.7216e-01,\n",
      "         1.1573e-01, -4.0910e-01, -8.0410e-02, -2.3914e-02, -3.2790e-01,\n",
      "         1.8025e-01, -7.6993e-01, -4.3272e-01,  2.5027e-01, -9.3711e-02,\n",
      "        -1.6508e-01, -7.8606e-01, -3.5634e-02, -6.1292e-02,  3.2754e-01,\n",
      "         5.9817e-01,  4.5519e-02, -2.5678e-01,  6.8746e-01,  6.0124e-02,\n",
      "         6.3963e-01,  3.5047e-01,  2.7190e-01,  2.1709e-01,  7.1067e-02,\n",
      "        -3.0760e-01,  5.7711e-02,  1.2389e+00,  3.1487e-01, -3.4343e-01,\n",
      "        -7.5680e-01,  5.7384e-01,  3.4060e-01,  1.8136e-02, -1.0656e-01,\n",
      "        -1.0713e+00, -6.2081e-02, -2.1266e-01,  1.9634e-01,  5.4404e-01,\n",
      "         3.6099e-01,  2.7876e-01, -3.4634e-01, -3.0717e-01,  9.1031e-02,\n",
      "        -3.0423e-02, -4.4682e-01, -4.2303e-01,  4.9905e-02,  5.0074e-01,\n",
      "        -8.8389e-02, -3.3502e-01, -2.1212e-01, -7.2557e-02,  9.6236e-02,\n",
      "         3.7210e-01, -1.7866e-01,  1.7734e-01,  2.8573e-01, -1.4549e-02,\n",
      "         5.8393e-03,  3.2156e-01, -2.7889e-01,  1.9540e-01,  7.1890e-01,\n",
      "        -5.5808e-01,  3.4313e-01,  7.9077e-02,  5.7498e-01,  2.3754e-01,\n",
      "         4.1230e-02,  6.6529e-02, -4.3210e-01, -5.0825e-01,  2.7621e-01,\n",
      "         4.1728e-01, -1.1188e-01, -9.0290e-02,  4.1926e-01,  4.3834e-01,\n",
      "         3.9323e-01,  8.4715e-01, -2.2496e-01, -1.9037e-01,  4.4568e-01,\n",
      "         3.8875e-01, -1.0230e-02,  7.3397e-01, -9.5387e-02, -3.9539e-01,\n",
      "         2.0731e-02, -3.8974e-01, -7.5735e-01,  1.5662e-01, -8.6502e-01,\n",
      "        -1.8417e-01, -2.0726e-01,  7.4042e-01,  1.1091e-01,  4.9880e-02,\n",
      "         2.0986e-01,  1.1957e-01,  2.2056e-01,  1.1592e-02, -1.2297e-01,\n",
      "        -6.4031e-01, -7.3443e-01, -1.6076e-03, -1.7218e-01, -9.0883e-02,\n",
      "         2.1644e-01, -5.9221e-01,  3.3043e-01, -9.3542e-02,  1.7467e-01,\n",
      "         2.4758e-01,  2.0837e-01,  5.5325e-01,  1.8631e-01, -4.3822e-01,\n",
      "         1.5972e-02,  1.2883e-01,  3.1720e-01,  1.9103e-01, -1.9518e-01,\n",
      "         1.6228e-01,  2.9525e-01,  9.9680e-02,  4.2410e-01, -1.5888e-02,\n",
      "        -7.0494e-01,  1.5707e-02, -1.4669e-01,  3.7478e-01, -2.2045e-01,\n",
      "         3.3933e-01,  6.6957e-01, -2.8602e-01, -2.3687e-01,  4.2735e-02,\n",
      "        -1.8178e-01, -8.6275e-03,  1.9466e-01, -2.9965e-02, -3.8600e-01,\n",
      "        -2.1821e-01, -3.8451e-01, -4.2893e-01, -4.6698e-02,  7.3837e-01,\n",
      "        -6.3677e-02,  6.2805e-01,  1.0516e-01,  2.5680e-01, -4.0844e-01,\n",
      "         1.8491e-01, -4.8043e-01,  1.4324e-01,  2.2528e-01, -6.1227e-01,\n",
      "         5.5175e-01,  5.2013e-02, -7.3607e-01, -1.2783e+00, -4.2945e-01,\n",
      "         4.7822e-01, -2.2551e-01,  9.5750e-02, -2.0882e-04,  1.6046e-01,\n",
      "         1.1522e-01, -7.0667e-01, -3.9898e-01, -4.3546e-02, -1.1156e-01,\n",
      "        -4.9245e-02,  2.3259e-01,  4.0150e-02, -6.6281e-02,  8.0844e-01,\n",
      "        -3.8743e-01, -5.6119e-01,  6.5175e-01,  2.9822e-01,  6.8661e-02,\n",
      "         2.0057e-01, -4.3838e-01,  3.5347e-01,  7.3832e-01,  2.0444e-01,\n",
      "        -1.6492e-01, -1.7907e-01,  1.4956e-01, -2.1261e-01, -6.2278e-02,\n",
      "         4.3150e-01, -4.6299e-02, -6.9556e-02, -1.0102e-02,  4.4687e-01,\n",
      "        -3.3784e-01,  2.1918e-01, -2.4856e-01,  7.9936e-02, -5.5336e-01,\n",
      "         1.0832e-01, -3.6490e-02,  9.6837e-01, -5.9555e-02, -3.2101e-01,\n",
      "        -3.9064e-01, -1.1103e-01,  1.9782e-01,  2.9080e-01, -5.7679e-02,\n",
      "         4.9362e-02, -3.4620e-01, -3.3802e-01, -3.4878e-01,  4.0797e-01,\n",
      "         5.6087e-01, -2.5435e-01, -9.0852e-01,  4.6378e-01,  2.7120e-01,\n",
      "        -8.1120e-02, -4.0062e-01,  3.5936e-01, -5.4205e-01, -5.8799e-01,\n",
      "        -6.6799e-01, -2.2558e-01, -9.6698e-02,  1.5135e-01,  2.4741e-01,\n",
      "        -5.7797e-01, -7.2805e-01, -3.2093e-01,  9.5488e-02, -2.7598e-01,\n",
      "        -9.7512e-03,  6.9832e-01, -2.5775e-01,  8.0746e-03, -4.7579e-01,\n",
      "         8.7908e-02, -2.4998e-01, -5.7774e-02, -7.1646e-01,  2.9922e-01,\n",
      "        -5.2458e-01, -1.0648e-01, -1.6841e-01,  5.2234e-01,  2.5898e-01,\n",
      "         4.1003e-01,  4.6680e-01, -2.4990e-02, -3.8117e-01,  4.8791e-01,\n",
      "        -4.4100e-01,  2.3847e-01,  1.7859e-01, -1.1008e-01,  2.9906e-01,\n",
      "         9.2305e-01,  1.7389e-01,  4.9461e-01,  6.0091e-01, -5.2964e-01,\n",
      "        -4.0846e-02,  3.7174e-01, -2.7717e-01,  5.1140e-02, -8.5202e-01,\n",
      "         2.6439e-01,  5.9082e-01, -1.5152e-01, -3.4146e-01,  5.5662e-01,\n",
      "         5.4697e-01, -4.4671e-01, -4.0377e-02,  8.2316e-03,  9.1375e-01,\n",
      "        -9.6911e-02, -8.4461e-02, -6.3162e-01, -2.6642e-01, -4.6852e-01,\n",
      "        -4.2916e-01, -3.4121e-02,  2.1156e-01,  4.2068e-01, -4.2077e-01,\n",
      "        -3.3499e-01,  1.6013e-01,  3.1576e-01,  5.6450e-01, -4.7551e-03,\n",
      "        -4.0141e-01, -1.3361e-02,  4.3718e-01, -6.1967e-02,  3.3259e-01,\n",
      "        -9.6076e-02,  2.2738e-03, -3.7230e-01,  4.5742e-01, -4.8613e-01,\n",
      "        -5.2658e-01, -2.2906e-02,  3.4775e-01,  1.9542e-03, -4.5896e-01,\n",
      "        -8.3085e-02, -2.4196e-01, -1.5699e-01, -1.5327e-01,  5.2681e-01,\n",
      "        -5.8048e-01, -3.0690e-02, -5.5251e-01,  1.9961e-01,  3.2158e-01,\n",
      "         3.3315e-01,  8.3048e-01, -1.2853e-01,  6.2349e-01,  5.1369e-01,\n",
      "         4.7082e-02, -6.9746e-02, -5.2715e-02, -3.4076e-01,  5.7234e-01,\n",
      "         4.5426e-02, -3.7724e-01, -4.0055e-01,  9.3115e-01,  3.6351e-01,\n",
      "        -2.0966e-01, -6.0972e-02, -1.5642e-01,  7.5901e-02, -8.7089e-01,\n",
      "        -5.4713e-01,  4.6493e-02,  3.7382e-01, -2.7784e-01,  3.2139e-01,\n",
      "        -3.9389e-01,  2.7411e-01, -1.8938e-01, -5.0571e-01,  7.9207e-01,\n",
      "        -3.3269e-01, -8.1802e-01, -8.7368e-01, -3.4029e-01,  3.8845e-01,\n",
      "        -2.8540e-01,  4.1506e-01,  1.4453e-01, -2.1859e-01, -1.5433e-01,\n",
      "        -2.3529e-01, -3.0828e-02, -1.5015e-01, -7.6853e-02, -1.9780e-01,\n",
      "         4.5154e-02, -1.6979e-01, -5.3977e-02, -2.4631e-01, -3.2003e-01,\n",
      "        -6.9301e-01, -3.7844e-01,  3.5790e-02,  1.8113e-01,  3.1059e-01,\n",
      "        -1.2648e-01,  1.5923e-01,  1.2879e-01, -8.0589e-01,  2.1425e-01,\n",
      "        -1.3669e-01, -7.6324e-02, -1.1239e+00, -8.2170e-01, -4.6323e-01,\n",
      "         3.5433e-01, -5.8845e-01, -2.0975e-01,  2.1211e-01, -5.6147e-01,\n",
      "         3.0918e-01, -1.5233e-01,  1.4494e-01,  5.1305e-01, -1.5375e-01,\n",
      "        -9.3067e-02,  2.5623e-01,  2.7287e-01, -4.0570e-01, -2.1852e-01,\n",
      "         2.3940e-01, -3.8923e-01,  4.4463e-01,  4.8536e-01,  6.8656e-02,\n",
      "         6.4277e-01, -7.8663e-02,  1.0526e-02, -5.4964e-02,  7.7672e-01,\n",
      "         1.3101e-01, -1.9342e-01,  1.4857e-01, -4.9138e-01, -5.8629e-01,\n",
      "        -1.8590e-01, -2.9058e-01,  1.4374e-01, -2.1594e-01, -3.9608e-01,\n",
      "         9.9021e-02, -9.0834e-03,  3.3995e-01, -9.8677e-02, -2.7951e-01,\n",
      "         3.7258e-01,  2.3002e-01, -6.3834e-01, -3.1582e-01,  2.6612e-01,\n",
      "        -1.1135e-01, -3.7109e-01,  1.7646e-01, -1.8454e-01, -6.9956e-02,\n",
      "        -7.6916e-01,  1.4873e-01, -2.2970e-01, -1.1859e-01,  4.6924e-01,\n",
      "        -1.7533e-01, -6.8891e-01,  4.9213e-01, -4.4519e-01,  5.2788e-02,\n",
      "         3.9102e-02,  1.0638e-01,  3.4065e-01,  1.4104e-01,  5.2363e-01,\n",
      "        -2.8681e-01,  4.3957e-01,  3.1557e-01,  2.3251e-01,  5.1163e-01,\n",
      "         5.7220e-02, -1.9251e-01,  1.3414e-01, -1.3613e-01,  2.5031e-01,\n",
      "         8.9833e-02,  3.8952e-01, -3.0087e-01,  3.6991e-01,  1.8019e-01,\n",
      "        -6.2809e-01,  3.9640e-02,  5.2738e-01, -6.3624e-01, -1.2094e-01,\n",
      "         5.0559e-01,  7.6247e-01, -7.4925e-01, -1.1508e-01, -9.0693e-02,\n",
      "        -5.9274e-01, -3.6349e-01,  6.2948e-01,  2.2738e-01, -5.1153e-01,\n",
      "         3.2350e-01, -9.6593e-02,  4.5646e-02,  6.6019e-01, -8.1828e-01,\n",
      "        -5.8521e-01,  1.2109e-01,  7.4459e-01, -3.0034e-01, -3.5744e-01,\n",
      "        -4.4210e-01,  2.5616e-01, -3.5800e-01, -2.6937e-01, -1.4524e-01,\n",
      "         4.2617e-01, -2.0010e-02,  2.3500e-01, -1.6504e-01,  6.1392e-01,\n",
      "         5.2393e-01,  1.2607e-01,  7.3467e-01,  2.1417e-01, -1.0914e-01,\n",
      "        -4.5429e-02,  6.6248e-01, -2.3415e-01,  5.3508e-01,  8.0182e-02,\n",
      "        -1.9130e-01, -3.1926e-01,  1.1277e-01,  6.0802e-03,  1.0623e-01,\n",
      "         3.2688e-01,  1.5992e-01,  1.3657e-01, -4.5355e-01, -5.2022e-01,\n",
      "         4.7972e-01, -3.0646e-01,  4.3597e-01, -2.9978e-01,  1.3974e-01,\n",
      "        -6.4543e-02, -4.1930e-01, -4.1514e-01, -4.4878e-01, -2.2081e-01,\n",
      "        -2.8862e-02,  2.8857e-01, -2.5333e-01,  8.0916e-01,  2.6381e-01,\n",
      "        -8.6017e-01,  3.0028e-01, -1.2634e-01, -1.1749e-01,  3.0556e-02,\n",
      "        -6.4330e-01, -1.0995e-01, -2.1259e-01, -5.4760e-01, -4.0298e-01,\n",
      "        -2.5815e-01,  2.0081e-01, -3.4428e-01,  8.5926e-01, -5.0503e-01,\n",
      "         4.4017e-02,  1.3544e-01,  3.4814e-02, -4.2575e-01,  1.2890e-01,\n",
      "         6.6827e-01,  5.2422e-01,  2.6875e-03,  5.1134e-01, -6.1790e-01,\n",
      "        -1.3325e-01,  5.1046e-01, -1.0064e-01,  1.0377e-01, -6.9983e-03,\n",
      "         4.1305e-01, -3.6876e-01, -2.3765e-01, -2.7093e-03,  5.0172e-01,\n",
      "        -1.1328e+00,  3.0558e-01,  2.6254e-01, -2.4446e-01,  1.0529e-01,\n",
      "        -1.0766e-01, -6.3148e-01,  3.7096e-01, -2.9783e-01, -6.9797e-02,\n",
      "        -5.3633e-02, -1.4766e-01,  5.2607e-02,  3.5587e-01,  1.2035e-01,\n",
      "         2.6364e-01, -3.3043e-01, -4.9663e-01,  6.5559e-01,  4.2347e-01,\n",
      "         3.7215e-01, -3.4561e-01, -7.1221e-02, -4.8381e-01, -3.9072e-02,\n",
      "         8.7990e-02, -1.8263e-02, -3.3855e-01,  2.2773e-01,  2.6100e-01,\n",
      "        -3.6478e-01, -1.7964e-01, -6.1555e-01, -1.4725e-01, -2.0859e-01,\n",
      "        -4.5441e-01,  2.8498e-01, -9.1623e-01, -2.8005e-02, -4.6750e-01,\n",
      "         1.1117e-01, -6.6689e-01,  1.3373e-01,  1.7680e-02,  2.9820e-02,\n",
      "        -2.2063e-01,  4.1052e-01, -3.4566e-01], grad_fn=<SelectBackward0>)\n"
     ]
    }
   ],
   "source": [
    "text = \"Hello, world! How are you doing today?\"\n",
    "tokens = tokenize(text)\n",
    "embedded_question = embed(tokens)\n",
    "print(embedded_question)"
   ]
  },
  {
   "cell_type": "code",
   "execution_count": null,
   "metadata": {},
   "outputs": [],
   "source": []
  }
 ],
 "metadata": {
  "kernelspec": {
   "display_name": "Python (nlp_venv)",
   "language": "python",
   "name": "nlp_venv"
  },
  "language_info": {
   "codemirror_mode": {
    "name": "ipython",
    "version": 3
   },
   "file_extension": ".py",
   "mimetype": "text/x-python",
   "name": "python",
   "nbconvert_exporter": "python",
   "pygments_lexer": "ipython3",
   "version": "3.10.12"
  }
 },
 "nbformat": 4,
 "nbformat_minor": 4
}
